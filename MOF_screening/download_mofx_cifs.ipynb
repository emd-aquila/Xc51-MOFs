{
  "nbformat": 4,
  "nbformat_minor": 0,
  "metadata": {
    "colab": {
      "provenance": [],
      "authorship_tag": "ABX9TyMYhCSFDyAUaZc1QePnl0wK",
      "include_colab_link": true
    },
    "kernelspec": {
      "name": "python3",
      "display_name": "Python 3"
    },
    "language_info": {
      "name": "python"
    }
  },
  "cells": [
    {
      "cell_type": "markdown",
      "metadata": {
        "id": "view-in-github",
        "colab_type": "text"
      },
      "source": [
        "<a href=\"https://colab.research.google.com/github/emd-aquila/Xc51-MOFs/blob/main/MOF_screening/download_mofx_cifs.ipynb\" target=\"_parent\"><img src=\"https://colab.research.google.com/assets/colab-badge.svg\" alt=\"Open In Colab\"/></a>"
      ]
    },
    {
      "cell_type": "code",
      "execution_count": 1,
      "metadata": {
        "id": "po8Xl3ZaLtRZ"
      },
      "outputs": [],
      "source": [
        "\"\"\"Set up packages and target directory/API\"\"\"\n",
        "\n",
        "import os\n",
        "import requests\n",
        "from tqdm import tqdm\n",
        "\n",
        "# Set your target directory\n",
        "MOF_DIR = \"MOFX_CIFs\"\n",
        "os.makedirs(MOF_DIR, exist_ok=True)\n",
        "\n",
        "# MOFX API endpoint\n",
        "API_URL = \"https://mof.tech.northwestern.edu/api/mof/\""
      ]
    },
    {
      "cell_type": "code",
      "source": [
        "\"\"\"Query MOFX API for list of MOFs\"\"\"\n",
        "\n",
        "response = requests.get(API_URL)\n",
        "response.raise_for_status()\n",
        "mof_entries = response.json()\n",
        "\n",
        "print(f\"Found {len(mof_entries)} MOFs in MOFX-DB.\")"
      ],
      "metadata": {
        "id": "kIHF_o9BMLp8"
      },
      "execution_count": null,
      "outputs": []
    },
    {
      "cell_type": "code",
      "source": [
        "\"\"\"Download CIF files for each MOF\"\"\"\n",
        "\n",
        "for entry in tqdm(mof_entries):\n",
        "    mof_id = entry[\"id\"]\n",
        "    mof_name = entry[\"name\"]\n",
        "\n",
        "    # Some MOF names may contain slashes or colons — clean up\n",
        "    safe_name = mof_name.replace(\"/\", \"_\").replace(\":\", \"_\")\n",
        "    cif_path = os.path.join(MOF_DIR, f\"{safe_name}.cif\")\n",
        "\n",
        "    # Skip already-downloaded files\n",
        "    if os.path.exists(cif_path):\n",
        "        continue\n",
        "\n",
        "    cif_url = f\"https://mof.tech.northwestern.edu/api/mof/{mof_id}/cif\"\n",
        "\n",
        "    try:\n",
        "        cif_response = requests.get(cif_url)\n",
        "        cif_response.raise_for_status()\n",
        "        with open(cif_path, \"wb\") as f:\n",
        "            f.write(cif_response.content)\n",
        "    except Exception as e:\n",
        "        print(f\"[ERROR] Could not download {mof_name} (ID: {mof_id}): {e}\")\n"
      ],
      "metadata": {
        "id": "-bVk3ea7MVZz"
      },
      "execution_count": null,
      "outputs": []
    }
  ]
}