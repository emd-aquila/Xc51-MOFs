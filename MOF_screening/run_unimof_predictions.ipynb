{
  "nbformat": 4,
  "nbformat_minor": 0,
  "metadata": {
    "colab": {
      "provenance": [],
      "authorship_tag": "ABX9TyP9zmvOBBs3AXi+a2nGiBPv",
      "include_colab_link": true
    },
    "kernelspec": {
      "name": "python3",
      "display_name": "Python 3"
    },
    "language_info": {
      "name": "python"
    }
  },
  "cells": [
    {
      "cell_type": "markdown",
      "metadata": {
        "id": "view-in-github",
        "colab_type": "text"
      },
      "source": [
        "<a href=\"https://colab.research.google.com/github/emd-aquila/Xc51-MOFs/blob/main/MOF_screening/run_unimof_predictions.ipynb\" target=\"_parent\"><img src=\"https://colab.research.google.com/assets/colab-badge.svg\" alt=\"Open In Colab\"/></a>"
      ]
    },
    {
      "cell_type": "code",
      "execution_count": null,
      "metadata": {
        "id": "s-47S24pJODM"
      },
      "outputs": [],
      "source": [
        "\"\"\"Import packages and set initial values\"\"\"\n",
        "import os\n",
        "import requests\n",
        "import pandas as pd\n",
        "import subprocess\n",
        "from tqdm import tqdm\n",
        "\n",
        "# Configuration\n",
        "MOF_DIR = \"MOFX_CIFs\"\n",
        "OUTPUT_CSV = \"unimof_predictions.csv\"\n",
        "GAS = \"CO2\"\n",
        "TEMP_K = 333.15        # 60 °C\n",
        "PRESSURE_KPA = 101.325 # 1 atm\n",
        "UNIMOF_INFER_CMD = \"unimof-infer\"  # Adjust if needed\n",
        "\n",
        "# Create directory for CIFs\n",
        "os.makedirs(MOF_DIR, exist_ok=True))\n"
      ]
    }
  ]
}