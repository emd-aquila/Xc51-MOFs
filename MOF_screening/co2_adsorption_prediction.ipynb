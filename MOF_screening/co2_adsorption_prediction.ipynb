import pandas


dog = 1.0


# This is a Jupyter notebook used to predict CO2 adsorption using the Uni-MOF model
